{
 "cells": [
  {
   "cell_type": "code",
   "execution_count": 1,
   "id": "c1b064b8",
   "metadata": {},
   "outputs": [],
   "source": [
    "\n",
    "def common_interval(ground_s,ground_e,pred_s,pred_e):\n",
    "    e_common = min(ground_e,pred_e)\n",
    "    s_common = max(ground_s,pred_s)\n",
    "    return max(e_common-s_common,0)\n",
    "\n",
    "def precision(ground_s,ground_e,pred_s,pred_e):\n",
    "    pred_length =  pred_e -pred_s\n",
    "    common_length = common_interval(ground_s,ground_e,pred_s,pred_e)\n",
    "    preci = common_length/(pred_length + 1e-30)\n",
    "    return preci\n",
    "\n",
    "def recall(ground_s,ground_e,pred_s,pred_e):\n",
    "    ground_length = ground_e - ground_s\n",
    "    common_length = common_interval(ground_s,ground_e,pred_s,pred_e)\n",
    "    recall = common_length/(ground_length + 1e-30)\n",
    "    return recall\n",
    "\n",
    "def f1_score(ground_s,ground_e,pred_s,pred_e):\n",
    "    preci = precision(ground_s,ground_e,pred_s,pred_e)\n",
    "    rec= recall(ground_s,ground_e,pred_s,pred_e)\n",
    "    f1_score = 2*preci*rec/(preci+rec+1e-32)\n",
    "    return f1_score\n",
    "\n",
    "def cal_matric(ground_truth, predictions,matric):\n",
    "    res = []\n",
    "    for i,j in zip(ground_truth,predictions):\n",
    "        if matric == \"precision\":\n",
    "            eff = precision(i[0],i[1],j[0],j[1])\n",
    "        elif matric == \"recall\":\n",
    "            eff = recall(i[0],i[1],j[0],j[1])\n",
    "        elif matric == \"f1_score\":\n",
    "            eff = f1_score(i[0],i[1],j[0],j[1])\n",
    "        else:\n",
    "            eff = f1_score(i[0],i[1],j[0],j[1])\n",
    "        res.append(eff)\n",
    "    return sum(res)/len(res) if res else 0"
   ]
  },
  {
   "cell_type": "code",
   "execution_count": 2,
   "id": "0c07b2ea",
   "metadata": {},
   "outputs": [
    {
     "data": {
      "text/plain": [
       "0.6291616883871414"
      ]
     },
     "execution_count": 2,
     "metadata": {},
     "output_type": "execute_result"
    }
   ],
   "source": [
    "# metric for the tears_of_steel video in OSVD dataset \n",
    "# the ground truth from the metadata of the  OSVD dataset  it is the frame boundary scenes\n",
    "ground_truth = [\n",
    "(0,599),\n",
    "(600,965),\n",
    "(966,1677),\n",
    "(1678,3668),\n",
    "(3669,6189),\n",
    "(6190,10354),\n",
    "(10355,10588),\n",
    "(10589,12657),\n",
    "(12658,14111),\n",
    "(14112,17028),\n",
    "(17029,17619)\n",
    "]\n",
    "\n",
    "# the prediction is from running the pipline (shot detection and scene detection)\n",
    "pred_res = [\n",
    "(0,600),\n",
    "(601 ,1500),\n",
    "(3001,2000),\n",
    "(2001,4500),\n",
    "(4501,7200),\n",
    "(7201,10200),\n",
    "(10201,11400),\n",
    "(11401,12600),\n",
    "(12601,14190),\n",
    "(14191,15600),\n",
    "(15601,17619)\n",
    "]\n",
    "cal_matric(ground_truth,pred_res,'f1_score')"
   ]
  },
  {
   "cell_type": "code",
   "execution_count": 3,
   "id": "7e45f552",
   "metadata": {},
   "outputs": [
    {
     "data": {
      "text/plain": [
       "0.6419456982615218"
      ]
     },
     "execution_count": 3,
     "metadata": {},
     "output_type": "execute_result"
    }
   ],
   "source": [
    "# metric for the sintel video in OSVD dataset \n",
    "# the ground truth from the metadata of the  OSVD dataset  it is the frame boundary scenes\n",
    "ground_truth = [\n",
    "(138\t,2428  ),\n",
    "(2574\t,3528),\n",
    "(3649\t,8393),\n",
    "(8394\t,10442),\n",
    "(10554\t,11305),\n",
    "(11346\t,16247),\n",
    "(16369\t,17857),\n",
    "(17858\t,21311)\n",
    "]\n",
    "\n",
    "# the prediction is from running the pipline (shot detection and scene detection)\n",
    "pred_res = [\n",
    "(0    ,  2428 ),  \n",
    "(2429 , 4860  ),  \n",
    "(4861 , 7320  ),\n",
    "(7321 , 10920 ),\n",
    "(10921,  1100 ),\n",
    "(1101 , 16247 ),\n",
    "(16248,  18440),\n",
    "(18441,  21240)\n",
    "]\n",
    "cal_matric(ground_truth,pred_res,'f1_score')"
   ]
  },
  {
   "cell_type": "code",
   "execution_count": 4,
   "id": "cb06a277",
   "metadata": {},
   "outputs": [
    {
     "data": {
      "text/plain": [
       "0.3908134204200201"
      ]
     },
     "execution_count": 4,
     "metadata": {},
     "output_type": "execute_result"
    }
   ],
   "source": [
    "# metric for the ED video in OSVD dataset \n",
    "# the ground truth from the metadata of the  OSVD dataset  it is the frame boundary scenes\n",
    "ground_truth = [\n",
    "(50\t  ,  653),\n",
    "(654,\t1672),\n",
    "(1673,\t5375),\n",
    "(5376,\t7018),\n",
    "(7019,\t9240),\n",
    "(9263,\t10237),\n",
    "(10238,\t11075),\n",
    "(11076,\t13489),\n",
    "(13490,\t15690)\n",
    "]\n",
    "\n",
    "# the prediction is from running the pipline (shot detection and scene detection)\n",
    "pred_res = [\n",
    "(0    , 600),\n",
    "(601  ,1200),\n",
    "(1201 , 2460),\n",
    "(2461 , 5260),\n",
    "(5261 , 8460),\n",
    "(8461 , 9240),\n",
    "(9241 , 10260),  \n",
    "(10261,  12060),\n",
    "(12061,  15000)\n",
    "]\n",
    "cal_matric(ground_truth,pred_res,'f1_score')"
   ]
  }
 ],
 "metadata": {
  "kernelspec": {
   "display_name": "Python 3",
   "language": "python",
   "name": "python3"
  },
  "language_info": {
   "codemirror_mode": {
    "name": "ipython",
    "version": 3
   },
   "file_extension": ".py",
   "mimetype": "text/x-python",
   "name": "python",
   "nbconvert_exporter": "python",
   "pygments_lexer": "ipython3",
   "version": "3.10.11"
  }
 },
 "nbformat": 4,
 "nbformat_minor": 5
}
