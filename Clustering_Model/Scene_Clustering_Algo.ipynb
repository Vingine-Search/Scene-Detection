{
 "cells": [
  {
   "cell_type": "code",
   "execution_count": 3,
   "id": "ff9bc8b8",
   "metadata": {},
   "outputs": [],
   "source": [
    "import numpy as np\n",
    "from sklearn.metrics.pairwise import cosine_similarity\n",
    "from scipy import sparse"
   ]
  },
  {
   "cell_type": "code",
   "execution_count": 4,
   "id": "3fd03681",
   "metadata": {},
   "outputs": [],
   "source": [
    "# TODO: get_distance_matrix \n",
    "\"\"\"\n",
    "params : \n",
    " feature_vector: array of feature vectors for each shot \n",
    "return : 2D distance matrix (Matrix 2D with size N*N ,N is the numer of shots,cell (i,j) have the feature distance between i,j shots)\n",
    "\"\"\"\n",
    "features_matrix =  np.array([[2, 1, 0, 4, 1], [0, 3, 1, 1, 10],[1, 1, 0, 1, 0]])\n",
    "def get_distance_matrix(features_matrix):\n",
    "    D_Matrix = sparse.csr_matrix(features_matrix)\n",
    "    D_Matrix = cosine_similarity(D_Matrix)\n",
    "    D_Matrix = 1-D_Matrix\n",
    "    # D_Matrix.tolist()\n",
    "    return D_Matrix\n",
    "\n",
    "#TODO: try eculedian  distance "
   ]
  },
  {
   "cell_type": "code",
   "execution_count": 5,
   "id": "e675f377",
   "metadata": {},
   "outputs": [
    {
     "name": "stdout",
     "output_type": "stream",
     "text": [
      "[[ 2.22044605e-16  6.55986020e-01  1.38359563e-01]\n",
      " [ 6.55986020e-01 -2.22044605e-16  7.80801350e-01]\n",
      " [ 1.38359563e-01  7.80801350e-01 -2.22044605e-16]]\n",
      "[[1.         0.34401398 0.86164044]\n",
      " [0.34401398 1.         0.21919865]\n",
      " [0.86164044 0.21919865 1.        ]]\n"
     ]
    }
   ],
   "source": [
    "D_Matrix = get_distance_matrix(features_matrix)\n",
    "print(D_Matrix)\n",
    "print(1-D_Matrix)"
   ]
  },
  {
   "cell_type": "code",
   "execution_count": 6,
   "id": "399dc23e",
   "metadata": {},
   "outputs": [],
   "source": [
    "#TODO: get_internal_sums\n",
    "\"\"\"get the total sum of distance of different segmentation \n",
    "params :\n",
    " Distance_Matrix: 2D distance matrix \n",
    " N: number of shots \n",
    "return : table with all different segments in D_Matrix\n",
    "\"\"\"\n",
    "def get_internal_sums(D_Matrix,N):\n",
    "    # D_sum = torch.zeros(N,N, device=self.device)\n",
    "    D_sum = np.zeros(shape=(N,N))\n",
    "    # initialize diagonal \n",
    "    for shot_index in range(N):\n",
    "        D_sum[shot_index,shot_index] = D_Matrix[shot_index,shot_index]\n",
    "    # initialize second diagonal\n",
    "    for shot_index in range(0, N-1):\n",
    "        D_sum[shot_index, shot_index+1] = D_Matrix[shot_index:shot_index+1+1, shot_index:shot_index+1+1].sum()\n",
    "        print(D_sum[shot_index, shot_index+1])\n",
    "        # TODO: recheck this condition \n",
    "        D_sum[shot_index+1, shot_index] = D_sum[shot_index, shot_index+1]\n",
    "        print(D_sum[shot_index+1, shot_index])\n",
    "    for scene_size in range(2, N):\n",
    "        for start_shot in range(0, N - scene_size):\n",
    "            '''\n",
    "            D_sum[i,j] =+D_sum[i-1,j]                  --> missing last row\n",
    "                        +D_sum[i,j-1]                  --> missing last column \n",
    "                        -D_sum[i-1,j-1]                --> as we sum it twice before\n",
    "                        +D_Matrix[i,j] + D_Matrix[j,i] -->missing cells in brevious calculations  \n",
    "            '''\n",
    "            D_sum[start_shot, start_shot + scene_size] = D_sum[start_shot, start_shot + scene_size - 1] + D_sum[start_shot - 1, start_shot + scene_size] - D_sum[start_shot - 1, start_shot + scene_size - 1] +  D_Matrix[start_shot, start_shot + scene_size] + D_Matrix[start_shot + scene_size, start_shot] \n",
    "            # as the matrix is symetric \n",
    "            D_sum[start_shot + scene_size, start_shot] = D_sum[start_shot, start_shot + scene_size]\n",
    "    return D_sum"
   ]
  },
  {
   "cell_type": "code",
   "execution_count": 7,
   "id": "66bdbc7e",
   "metadata": {},
   "outputs": [
    {
     "name": "stdout",
     "output_type": "stream",
     "text": [
      "1.3119720402611001\n",
      "1.3119720402611001\n",
      "1.5616027005190467\n",
      "1.5616027005190467\n",
      "[[ 2.22044605e-16  1.31197204e+00  2.70884660e-02]\n",
      " [ 1.31197204e+00 -2.22044605e-16  1.56160270e+00]\n",
      " [ 2.70884660e-02  1.56160270e+00 -2.22044605e-16]]\n"
     ]
    }
   ],
   "source": [
    "D_sum = get_internal_sums(D_Matrix,3)\n",
    "print(D_sum)"
   ]
  },
  {
   "cell_type": "code",
   "execution_count": 8,
   "id": "4e5b6533",
   "metadata": {},
   "outputs": [],
   "source": [
    "from operator import itemgetter\n",
    "# TODO: hierarchical clustering_h_add\n",
    "# TODO: NOW I AM WORKING WITHOUT USING INTERMEDIATE SUMS (I SHOULD USE IT LATER FOR EFFECIENCY)\n",
    "\"\"\"params : \n",
    "    D_matrix : 2D distance matrix (with size N*N)\n",
    "    scenes_num: Nuber of scenes needed to be generated \n",
    "return : T (T is the optimal shot indexes where thw shots are devided into scenes)\n",
    "\"\"\"\n",
    "def get_optimal_sequence_add(D_matrix, scenes_num):\n",
    "    N = D_Matrix.shape[0]\n",
    "    '''\n",
    "    define cost matrix to define the optimal objective function value ,the optimal one is then cost_Matrix[1,scenes_num]\n",
    "    cost_Matrix[n,scenes_num] means the cost of deviding  N-n+1 shots to scenes_num scenes\n",
    "    '''\n",
    "    cost_Matrix = np.zeros((N, scenes_num))\n",
    "    boundry_index_Matrix = np.zeros((N, scenes_num), dtype=int)\n",
    "\n",
    "    # initialization\n",
    "    for n in range(0, N):\n",
    "        cost_Matrix[n, 0] = np.sum(D_matrix[n:, n:])\n",
    "\n",
    "    for n in range(0, N):\n",
    "        boundry_index_Matrix[n, 0] = N - 1\n",
    "\n",
    "    # build the rest of the table \n",
    "    for k in range(1,scenes_num):\n",
    "        for n in range(0,N):\n",
    "            diffrent_scene_costs = []\n",
    "            # define i the index of the next boundry will be betwen (n,N)\n",
    "            for i in range(n, N):\n",
    "                if i < N - 1:\n",
    "                    C_prev = cost_Matrix[i + 1, k - 1]\n",
    "                else:\n",
    "                    C_prev = 0\n",
    "                scene_cost = np.sum(D_matrix[n:i + 1, n:i + 1])\n",
    "                scene_cost = scene_cost + C_prev\n",
    "                diffrent_scene_costs.append((scene_cost,i))\n",
    "            # diffrent_scene_costs = np.array(diffrent_scene_costs)\n",
    "            # choose the minimum value that we can put i and achieve the least cost for the scene \n",
    "            # cost_Matrix[n, k] = np.min(diffrent_scene_costs)\n",
    "            min_cost = min(diffrent_scene_costs, key=itemgetter(0))\n",
    "            cost_Matrix[n, k] = min_cost[0]\n",
    "            # save the index\n",
    "            # boundry_index_Matrix[n, k] = np.where(diffrent_scene_costs == cost_Matrix[n, k])[0][0] + n\n",
    "            boundry_index_Matrix[n, k] = min_cost[0]+n\n",
    "    \n",
    "    scene_boundries = np.zeros((scenes_num,), dtype=int)\n",
    "    scene_boundries_prev = 0\n",
    "    for i in range(0, scenes_num):\n",
    "        if i == 0:\n",
    "            scene_boundries_prev = 0\n",
    "        else:\n",
    "            scene_boundries_prev = scene_boundries[i - 1]\n",
    "        scene_boundries[i] = boundry_index_Matrix[scene_boundries_prev, scenes_num - i - 1]\n",
    "    return scene_boundries"
   ]
  },
  {
   "cell_type": "code",
   "execution_count": 9,
   "id": "46af60e3",
   "metadata": {},
   "outputs": [
    {
     "name": "stdout",
     "output_type": "stream",
     "text": [
      "[1 2]\n"
     ]
    }
   ],
   "source": [
    "g = get_optimal_sequence_add(D_Matrix, 2)\n",
    "print(g)"
   ]
  },
  {
   "cell_type": "code",
   "execution_count": 10,
   "id": "c34f1618",
   "metadata": {},
   "outputs": [
    {
     "data": {
      "text/plain": [
       "'\\nparams : 2D distance matrix (with size N*N)\\nreturn : T (T is the optimal shot indexes where thw shots are devided into scenes)\\n'"
      ]
     },
     "execution_count": 10,
     "metadata": {},
     "output_type": "execute_result"
    }
   ],
   "source": [
    "# TODO: hierarchical clustering_h_nrm\n",
    "\"\"\"\n",
    "params : 2D distance matrix (with size N*N)\n",
    "return : T (T is the optimal shot indexes where thw shots are devided into scenes)\n",
    "\"\"\"\n"
   ]
  },
  {
   "cell_type": "code",
   "execution_count": 11,
   "id": "c8a38a25",
   "metadata": {},
   "outputs": [],
   "source": [
    "# TODO: get estimated number of scenes"
   ]
  },
  {
   "cell_type": "code",
   "execution_count": null,
   "id": "2b4a8dd3",
   "metadata": {},
   "outputs": [],
   "source": []
  }
 ],
 "metadata": {
  "kernelspec": {
   "display_name": "Python 3.10.9 64-bit",
   "language": "python",
   "name": "python3"
  },
  "language_info": {
   "codemirror_mode": {
    "name": "ipython",
    "version": 3
   },
   "file_extension": ".py",
   "mimetype": "text/x-python",
   "name": "python",
   "nbconvert_exporter": "python",
   "pygments_lexer": "ipython3",
   "version": "3.10.9"
  },
  "vscode": {
   "interpreter": {
    "hash": "767d51c1340bd893661ea55ea3124f6de3c7a262a8b4abca0554b478b1e2ff90"
   }
  }
 },
 "nbformat": 4,
 "nbformat_minor": 5
}
