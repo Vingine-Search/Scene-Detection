{
 "cells": [
  {
   "cell_type": "code",
   "execution_count": 4,
   "id": "ff9bc8b8",
   "metadata": {},
   "outputs": [],
   "source": [
    "import numpy as np\n",
    "from sklearn.metrics.pairwise import cosine_similarity\n",
    "from scipy import sparse"
   ]
  },
  {
   "cell_type": "code",
   "execution_count": 31,
   "id": "3fd03681",
   "metadata": {},
   "outputs": [],
   "source": [
    "# TODO: get_distance_matrix \n",
    "\"\"\"\n",
    "params : \n",
    " feature_vector: array of feature vectors for each shot \n",
    "return : 2D distance matrix (Matrix 2D with size N*N ,N is the numer of shots,cell (i,j) have the feature distance between i,j shots)\n",
    "\"\"\"\n",
    "features_matrix =  np.array([[2, 1, 0, 4, 1], [0, 3, 1, 1, 10],[1, 1, 0, 1, 0]])\n",
    "def get_distance_matrix(features_matrix):\n",
    "    D_Matrix = sparse.csr_matrix(features_matrix)\n",
    "    D_Matrix = cosine_similarity(D_Matrix)\n",
    "    D_Matrix = 1-D_Matrix\n",
    "    # D_Matrix.tolist()\n",
    "    return D_Matrix\n",
    "\n",
    "#TODO: try eculedian  distance "
   ]
  },
  {
   "cell_type": "code",
   "execution_count": 32,
   "id": "e675f377",
   "metadata": {},
   "outputs": [
    {
     "name": "stdout",
     "output_type": "stream",
     "text": [
      "[[ 2.22044605e-16  6.55986020e-01  1.38359563e-01]\n",
      " [ 6.55986020e-01 -2.22044605e-16  7.80801350e-01]\n",
      " [ 1.38359563e-01  7.80801350e-01 -2.22044605e-16]]\n",
      "[[1.         0.34401398 0.86164044]\n",
      " [0.34401398 1.         0.21919865]\n",
      " [0.86164044 0.21919865 1.        ]]\n"
     ]
    }
   ],
   "source": [
    "D_Matrix = get_distance_matrix(features_matrix)\n",
    "print(D_Matrix)\n",
    "print(1-D_Matrix)"
   ]
  },
  {
   "cell_type": "code",
   "execution_count": 37,
   "id": "399dc23e",
   "metadata": {},
   "outputs": [],
   "source": [
    "#TODO: get_internal_sums\n",
    "\"\"\"get the total sum of distance of different segmentation \n",
    "params :\n",
    " Distance_Matrix: 2D distance matrix \n",
    " N: number of shots \n",
    " start_shot: begin of scene \n",
    " end_shot: end of scene \n",
    "return : table with all different segments in D_Matrix\n",
    "\"\"\"\n",
    "def get_internal_sums(D_Matrix,N):\n",
    "    # D_sum = torch.zeros(N,N, device=self.device)\n",
    "    D_sum = np.zeros(shape=(N,N))\n",
    "    # initialize diagonal \n",
    "    for shot_index in range(N):\n",
    "        D_sum[shot_index,shot_index] = D_Matrix[shot_index,shot_index]\n",
    "    # initialize second diagonal\n",
    "    for shot_index in range(0, N-1):\n",
    "        D_sum[shot_index, shot_index+1] = D_Matrix[shot_index:shot_index+1+1, shot_index:shot_index+1+1].sum()\n",
    "        print(D_sum[shot_index, shot_index+1])\n",
    "        # TODO: recheck this condition \n",
    "        D_sum[shot_index+1, shot_index] = D_Matrix[shot_index, shot_index+1]\n",
    "        print(D_sum[shot_index+1, shot_index])\n",
    "    for start_shot in range(2, N):\n",
    "        for end_shot in range(0, N - start_shot):\n",
    "            # D_sum[i,j] = +D_sum[i-1,j]                  --> missing last row\n",
    "            #              +D_sum[i,j-1]                  --> missing last column \n",
    "            #              -D_sum[i-1,j-1]                --> as we sum it twice before\n",
    "            #              +D_Matrix[i,j] + D_Matrix[j,i] -->missing cells in brevious calculations  \n",
    "            D_sum[end_shot, end_shot + start_shot] = D_sum[end_shot, end_shot + start_shot - 1] + D_sum[end_shot - 1, end_shot + start_shot] - D_sum[end_shot - 1, end_shot + start_shot - 1] +  D_Matrix[end_shot, end_shot + start_shot] + D_Matrix[end_shot + start_shot, end_shot] \n",
    "            # as the matrix is symetric \n",
    "            D_sum[end_shot + start_shot, end_shot] = D_sum[end_shot, end_shot + start_shot]\n",
    "    return D_sum"
   ]
  },
  {
   "cell_type": "code",
   "execution_count": 38,
   "id": "66bdbc7e",
   "metadata": {},
   "outputs": [
    {
     "name": "stdout",
     "output_type": "stream",
     "text": [
      "1.3119720402611001\n",
      "0.6559860201305501\n",
      "1.5616027005190467\n",
      "0.7808013502595236\n",
      "[[ 2.22044605e-16  1.31197204e+00  8.07889816e-01]\n",
      " [ 6.55986020e-01 -2.22044605e-16  1.56160270e+00]\n",
      " [ 8.07889816e-01  7.80801350e-01 -2.22044605e-16]]\n"
     ]
    }
   ],
   "source": [
    "D_sum = get_internal_sums(D_Matrix,3)\n",
    "print(D_sum)"
   ]
  },
  {
   "cell_type": "code",
   "execution_count": 39,
   "id": "4e5b6533",
   "metadata": {},
   "outputs": [
    {
     "data": {
      "text/plain": [
       "'\\nparams : 2D distance matrix (with size N*N)\\nreturn : T (T is the optimal shot indexes where thw shots are devided into scenes)\\n\\n'"
      ]
     },
     "execution_count": 39,
     "metadata": {},
     "output_type": "execute_result"
    }
   ],
   "source": [
    "# TODO: hierarchical clustering_h_add\n",
    "\n",
    "\"\"\"\n",
    "params : 2D distance matrix (with size N*N)\n",
    "return : T (T is the optimal shot indexes where thw shots are devided into scenes)\n",
    "\n",
    "\"\"\""
   ]
  },
  {
   "cell_type": "code",
   "execution_count": null,
   "id": "c34f1618",
   "metadata": {},
   "outputs": [],
   "source": [
    "# TODO: hierarchical clustering_h_nrm\n",
    "\n",
    "\"\"\"\n",
    "params : 2D distance matrix (with size N*N)\n",
    "return : T (T is the optimal shot indexes where thw shots are devided into scenes)\n",
    "\"\"\"\n"
   ]
  },
  {
   "cell_type": "code",
   "execution_count": null,
   "id": "c8a38a25",
   "metadata": {},
   "outputs": [],
   "source": []
  }
 ],
 "metadata": {
  "kernelspec": {
   "display_name": "Python 3",
   "language": "python",
   "name": "python3"
  },
  "language_info": {
   "codemirror_mode": {
    "name": "ipython",
    "version": 3
   },
   "file_extension": ".py",
   "mimetype": "text/x-python",
   "name": "python",
   "nbconvert_exporter": "python",
   "pygments_lexer": "ipython3",
   "version": "3.10.11"
  }
 },
 "nbformat": 4,
 "nbformat_minor": 5
}
