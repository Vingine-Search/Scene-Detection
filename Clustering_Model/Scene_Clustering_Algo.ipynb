{
 "cells": [
  {
   "cell_type": "code",
   "execution_count": 1,
   "id": "3fd03681",
   "metadata": {},
   "outputs": [],
   "source": [
    "# TODO: get_distance_matrix \n",
    "\"\"\"\n",
    "params : \n",
    " feature_vector: feature vector for each shot \n",
    " k: count of diagonal clusters represented scenes\n",
    "return : 2D distance matrix (Matrix 2D with size N*N ,N is the numer of shots,cell (i,j) have the feature distnce between i,j shots)\n",
    "\n",
    "\"\"\"\n",
    "# def get_synth_example(\n",
    "#     features_count: int,\n",
    "#     scenes_count: int,\n",
    "#     random_seed: int = 42\n",
    "# ) -> Tuple[np.ndarray, np.ndarray]:\n",
    "#     \"\"\"\n",
    "#     Generates synthetic pairwise distance matrix for features_count shots and scenes_count scenes\n",
    "    \n",
    "#     :param features_count: count of shots\n",
    "#     :param scenes_count: count of diagonal clusters represented scenes\n",
    "#     :param random_seed: value for random numbers generator initialization\n",
    "#     :return: pairwise distance matrix and scene borders\n",
    "#     \"\"\"\n",
    "#     synth_distances = np.random.uniform(size=(features_count, features_count))\n",
    "#     np.random.seed(random_seed)\n",
    "#     random_t = np.random.choice(range(2, features_count - 1), size=scenes_count-1, replace=False)\n",
    "#     random_t.sort()\n",
    "#     for i, t in enumerate(random_t):\n",
    "#         if i == 0:\n",
    "#             synth_distances[0:t, 0:t] = np.clip(synth_distances[0:t, 0:t] - 0.4, 0., 1.)\n",
    "#         else:\n",
    "#             synth_distances[random_t[i - 1]:t, random_t[i - 1]:t] = \\\n",
    "#                 np.clip(synth_distances[random_t[i - 1]:t, random_t[i - 1]:t] - 0.4, 0., 1.)\n",
    "#     synth_distances[random_t[-1]:features_count, random_t[-1]:features_count] = \\\n",
    "#         np.clip(synth_distances[random_t[-1]:features_count, random_t[-1]:features_count] - 0.4, 0., 1.)\n",
    "#     random_t = np.append(random_t, [features_count])\n",
    "#     synth_distances = (synth_distances + synth_distances.T)/2\n",
    "\n",
    "#     np.fill_diagonal(synth_distances, 0)\n",
    "#     return synth_distances, random_t - 1\n",
    "# def get_distance_matrix():\n",
    "    \n",
    "#     return D"
   ]
  },
  {
   "cell_type": "code",
   "execution_count": 5,
   "id": "4e5b6533",
   "metadata": {},
   "outputs": [],
   "source": [
    "# TODO: hierarchical clustering_h_add\n",
    "\n",
    "\"\"\"\n",
    "params : 2D distance matrix (with size N*N)\n",
    "return : T (T is the optimal shot indexes where thw shots are devided into scenes)\n",
    "\n",
    "\"\"\""
   ]
  },
  {
   "cell_type": "code",
   "execution_count": null,
   "id": "c34f1618",
   "metadata": {},
   "outputs": [],
   "source": [
    "# TODO: hierarchical clustering_h_nrm\n",
    "\n",
    "\"\"\"\n",
    "params : 2D distance matrix (with size N*N)\n",
    "return : T (T is the optimal shot indexes where thw shots are devided into scenes)\n",
    "\"\"\""
   ]
  },
  {
   "cell_type": "code",
   "execution_count": null,
   "id": "c8a38a25",
   "metadata": {},
   "outputs": [],
   "source": []
  }
 ],
 "metadata": {
  "kernelspec": {
   "display_name": "Python 3",
   "language": "python",
   "name": "python3"
  },
  "language_info": {
   "codemirror_mode": {
    "name": "ipython",
    "version": 3
   },
   "file_extension": ".py",
   "mimetype": "text/x-python",
   "name": "python",
   "nbconvert_exporter": "python",
   "pygments_lexer": "ipython3",
   "version": "3.8.8"
  }
 },
 "nbformat": 4,
 "nbformat_minor": 5
}
