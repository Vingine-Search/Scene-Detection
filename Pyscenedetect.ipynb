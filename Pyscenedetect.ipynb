{
 "cells": [
  {
   "cell_type": "code",
   "execution_count": 1,
   "id": "09e3acd3",
   "metadata": {},
   "outputs": [
    {
     "name": "stdout",
     "output_type": "stream",
     "text": [
      "Collecting scenedetect[opencv]\n",
      "  Downloading scenedetect-0.6.1-py3-none-any.whl (115 kB)\n",
      "Requirement already satisfied: appdirs in c:\\users\\nadeen\\anaconda3\\lib\\site-packages (from scenedetect[opencv]) (1.4.4)\n",
      "Requirement already satisfied: numpy in c:\\users\\nadeen\\anaconda3\\lib\\site-packages (from scenedetect[opencv]) (1.20.1)\n",
      "Requirement already satisfied: tqdm in c:\\users\\nadeen\\anaconda3\\lib\\site-packages (from scenedetect[opencv]) (4.59.0)\n",
      "Requirement already satisfied: Click in c:\\users\\nadeen\\anaconda3\\lib\\site-packages (from scenedetect[opencv]) (7.1.2)\n",
      "Requirement already satisfied: opencv-python in c:\\users\\nadeen\\anaconda3\\lib\\site-packages (from scenedetect[opencv]) (4.5.4.60)\n",
      "Installing collected packages: scenedetect\n",
      "Successfully installed scenedetect-0.6.1\n"
     ]
    }
   ],
   "source": [
    "!pip install --upgrade scenedetect[opencv]"
   ]
  },
  {
   "cell_type": "code",
   "execution_count": 34,
   "id": "578a0fd3",
   "metadata": {},
   "outputs": [
    {
     "name": "stderr",
     "output_type": "stream",
     "text": [
      "'detect-content' is not recognized as an internal or external command,\n",
      "operable program or batch file.\n"
     ]
    }
   ],
   "source": [
    "!detect-content"
   ]
  },
  {
   "cell_type": "code",
   "execution_count": 35,
   "id": "fbe96dea",
   "metadata": {},
   "outputs": [
    {
     "name": "stdout",
     "output_type": "stream",
     "text": [
      "[PySceneDetect] PySceneDetect v0.6.1\n",
      "[PySceneDetect] No scene detectors specified (detect-content, detect-threshold, etc...),\n",
      " or failed to process all command line arguments.\n"
     ]
    },
    {
     "name": "stderr",
     "output_type": "stream",
     "text": [
      "Traceback (most recent call last):\n",
      "  File \"c:\\users\\nadeen\\anaconda3\\lib\\runpy.py\", line 194, in _run_module_as_main\n",
      "    return _run_code(code, main_globals, None,\n",
      "  File \"c:\\users\\nadeen\\anaconda3\\lib\\runpy.py\", line 87, in _run_code\n",
      "    exec(code, run_globals)\n",
      "  File \"C:\\Users\\Nadeen\\anaconda3\\Scripts\\scenedetect.exe\\__main__.py\", line 7, in <module>\n",
      "  File \"c:\\users\\nadeen\\anaconda3\\lib\\site-packages\\scenedetect\\__main__.py\", line 33, in main\n",
      "    cli.main(obj=cli_ctx)  # Parse CLI arguments with registered callbacks.\n",
      "  File \"c:\\users\\nadeen\\anaconda3\\lib\\site-packages\\click\\core.py\", line 782, in main\n",
      "    rv = self.invoke(ctx)\n",
      "  File \"c:\\users\\nadeen\\anaconda3\\lib\\site-packages\\click\\core.py\", line 1276, in invoke\n",
      "    sub_ctx = cmd.make_context(\n",
      "  File \"c:\\users\\nadeen\\anaconda3\\lib\\site-packages\\click\\core.py\", line 700, in make_context\n",
      "    self.parse_args(ctx, args)\n",
      "  File \"c:\\users\\nadeen\\anaconda3\\lib\\site-packages\\click\\core.py\", line 1048, in parse_args\n",
      "    value, args = param.handle_parse_result(ctx, opts, args)\n",
      "  File \"c:\\users\\nadeen\\anaconda3\\lib\\site-packages\\click\\core.py\", line 1623, in handle_parse_result\n",
      "    value = self.full_process_value(ctx, value)\n",
      "  File \"c:\\users\\nadeen\\anaconda3\\lib\\site-packages\\click\\core.py\", line 1965, in full_process_value\n",
      "    return Parameter.full_process_value(self, ctx, value)\n",
      "  File \"c:\\users\\nadeen\\anaconda3\\lib\\site-packages\\click\\core.py\", line 1592, in full_process_value\n",
      "    value = self.get_default(ctx)\n",
      "  File \"c:\\users\\nadeen\\anaconda3\\lib\\site-packages\\click\\core.py\", line 1917, in get_default\n",
      "    return Parameter.get_default(self, ctx)\n",
      "  File \"c:\\users\\nadeen\\anaconda3\\lib\\site-packages\\click\\core.py\", line 1534, in get_default\n",
      "    return self.type_cast_value(ctx, rv)\n",
      "  File \"c:\\users\\nadeen\\anaconda3\\lib\\site-packages\\click\\core.py\", line 1561, in type_cast_value\n",
      "    return self.type(value or (), self, ctx)\n",
      "  File \"c:\\users\\nadeen\\anaconda3\\lib\\site-packages\\click\\types.py\", line 46, in __call__\n",
      "    return self.convert(value, param, ctx)\n",
      "  File \"c:\\users\\nadeen\\anaconda3\\lib\\site-packages\\click\\types.py\", line 681, in convert\n",
      "    raise TypeError(\n",
      "TypeError: It would appear that nargs is set to conflict with the composite type arity.\n"
     ]
    }
   ],
   "source": [
    "!scenedetect -i ex.mp4 detect-adaptive list_scenes save_images"
   ]
  },
  {
   "cell_type": "code",
   "execution_count": null,
   "id": "cd281f7e",
   "metadata": {},
   "outputs": [],
   "source": []
  },
  {
   "cell_type": "code",
   "execution_count": null,
   "id": "3eebf185",
   "metadata": {},
   "outputs": [],
   "source": []
  },
  {
   "cell_type": "code",
   "execution_count": null,
   "id": "acb4b654",
   "metadata": {},
   "outputs": [],
   "source": []
  },
  {
   "cell_type": "code",
   "execution_count": null,
   "id": "ac8763f0",
   "metadata": {},
   "outputs": [],
   "source": []
  },
  {
   "cell_type": "code",
   "execution_count": null,
   "id": "730ba614",
   "metadata": {},
   "outputs": [],
   "source": []
  },
  {
   "cell_type": "code",
   "execution_count": null,
   "id": "bffaa08e",
   "metadata": {},
   "outputs": [],
   "source": []
  },
  {
   "cell_type": "code",
   "execution_count": null,
   "id": "4267a81a",
   "metadata": {},
   "outputs": [],
   "source": []
  }
 ],
 "metadata": {
  "kernelspec": {
   "display_name": "Python 3",
   "language": "python",
   "name": "python3"
  },
  "language_info": {
   "codemirror_mode": {
    "name": "ipython",
    "version": 3
   },
   "file_extension": ".py",
   "mimetype": "text/x-python",
   "name": "python",
   "nbconvert_exporter": "python",
   "pygments_lexer": "ipython3",
   "version": "3.8.8"
  }
 },
 "nbformat": 4,
 "nbformat_minor": 5
}
